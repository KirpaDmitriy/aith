{
 "cells": [
  {
   "cell_type": "markdown",
   "id": "c1abe0f3-71e0-4095-84a0-12c442f32d77",
   "metadata": {
    "tags": []
   },
   "source": [
    "## Подключение зависимостей"
   ]
  },
  {
   "cell_type": "code",
   "execution_count": 1,
   "id": "bb1ff1c1-2028-48ef-95fb-ec5b44c078f2",
   "metadata": {
    "execution": {
     "iopub.execute_input": "2024-06-13T16:09:34.053943Z",
     "iopub.status.busy": "2024-06-13T16:09:34.053019Z",
     "iopub.status.idle": "2024-06-13T16:09:40.630724Z",
     "shell.execute_reply": "2024-06-13T16:09:40.629917Z",
     "shell.execute_reply.started": "2024-06-13T16:09:34.053899Z"
    },
    "tags": []
   },
   "outputs": [
    {
     "name": "stdout",
     "output_type": "stream",
     "text": [
      "Defaulting to user installation because normal site-packages is not writeable\n",
      "Requirement already satisfied: requests in /usr/local/lib/python3.10/dist-packages (2.27.1)\n",
      "Requirement already satisfied: beautifulsoup4 in /usr/local/lib/python3.10/dist-packages (4.11.2)\n",
      "Requirement already satisfied: markdown2 in /home/jupyter/.local/lib/python3.10/site-packages (2.4.13)\n",
      "Requirement already satisfied: pandas in /usr/local/lib/python3.10/dist-packages (1.5.3)\n",
      "Requirement already satisfied: gradio in /home/jupyter/.local/lib/python3.10/site-packages (4.26.0)\n",
      "Requirement already satisfied: urllib3<1.27,>=1.21.1 in /usr/local/lib/python3.10/dist-packages (from requests) (1.26.16)\n",
      "Requirement already satisfied: certifi>=2017.4.17 in /usr/local/lib/python3.10/dist-packages (from requests) (2023.7.22)\n",
      "Requirement already satisfied: charset-normalizer~=2.0.0 in /usr/local/lib/python3.10/dist-packages (from requests) (2.0.12)\n",
      "Requirement already satisfied: idna<4,>=2.5 in /usr/local/lib/python3.10/dist-packages (from requests) (3.4)\n",
      "Requirement already satisfied: soupsieve>1.2 in /usr/local/lib/python3.10/dist-packages (from beautifulsoup4) (2.4.1)\n",
      "Requirement already satisfied: python-dateutil>=2.8.1 in /usr/local/lib/python3.10/dist-packages (from pandas) (2.8.2)\n",
      "Requirement already satisfied: pytz>=2020.1 in /usr/local/lib/python3.10/dist-packages (from pandas) (2022.7.1)\n",
      "Requirement already satisfied: numpy>=1.21.0 in /usr/local/lib/python3.10/dist-packages (from pandas) (1.22.4)\n",
      "Requirement already satisfied: aiofiles<24.0,>=22.0 in /home/jupyter/.local/lib/python3.10/site-packages (from gradio) (23.2.1)\n",
      "Requirement already satisfied: altair<6.0,>=4.2.0 in /usr/local/lib/python3.10/dist-packages (from gradio) (4.2.2)\n",
      "Requirement already satisfied: fastapi in /home/jupyter/.local/lib/python3.10/site-packages (from gradio) (0.110.3)\n",
      "Requirement already satisfied: ffmpy in /home/jupyter/.local/lib/python3.10/site-packages (from gradio) (0.3.2)\n",
      "Requirement already satisfied: gradio-client==0.15.1 in /home/jupyter/.local/lib/python3.10/site-packages (from gradio) (0.15.1)\n",
      "Requirement already satisfied: httpx>=0.24.1 in /home/jupyter/.local/lib/python3.10/site-packages (from gradio) (0.27.0)\n",
      "Requirement already satisfied: huggingface-hub>=0.19.3 in /home/jupyter/.local/lib/python3.10/site-packages (from gradio) (0.23.3)\n",
      "Requirement already satisfied: importlib-resources<7.0,>=1.3 in /usr/local/lib/python3.10/dist-packages (from gradio) (6.0.0)\n",
      "Requirement already satisfied: jinja2<4.0 in /usr/local/lib/python3.10/dist-packages (from gradio) (3.1.2)\n",
      "Requirement already satisfied: markupsafe~=2.0 in /usr/local/lib/python3.10/dist-packages (from gradio) (2.1.3)\n",
      "Requirement already satisfied: matplotlib~=3.0 in /usr/local/lib/python3.10/dist-packages (from gradio) (3.7.1)\n",
      "Requirement already satisfied: orjson~=3.0 in /usr/local/lib/python3.10/dist-packages (from gradio) (3.9.4)\n",
      "Requirement already satisfied: packaging in /usr/local/lib/python3.10/dist-packages (from gradio) (23.1)\n",
      "Requirement already satisfied: pillow<11.0,>=8.0 in /usr/local/lib/python3.10/dist-packages (from gradio) (9.4.0)\n",
      "Requirement already satisfied: pydantic>=2.0 in /home/jupyter/.local/lib/python3.10/site-packages (from gradio) (2.7.3)\n",
      "Requirement already satisfied: pydub in /home/jupyter/.local/lib/python3.10/site-packages (from gradio) (0.25.1)\n",
      "Requirement already satisfied: python-multipart>=0.0.9 in /home/jupyter/.local/lib/python3.10/site-packages (from gradio) (0.0.9)\n",
      "Requirement already satisfied: pyyaml<7.0,>=5.0 in /usr/local/lib/python3.10/dist-packages (from gradio) (6.0.1)\n",
      "Requirement already satisfied: ruff>=0.2.2 in /home/jupyter/.local/lib/python3.10/site-packages (from gradio) (0.4.8)\n",
      "Requirement already satisfied: semantic-version~=2.0 in /home/jupyter/.local/lib/python3.10/site-packages (from gradio) (2.10.0)\n",
      "Requirement already satisfied: tomlkit==0.12.0 in /home/jupyter/.local/lib/python3.10/site-packages (from gradio) (0.12.0)\n",
      "Requirement already satisfied: typer<1.0,>=0.9 in /usr/local/lib/python3.10/dist-packages (from typer[all]<1.0,>=0.9; sys_platform != \"emscripten\"->gradio) (0.9.0)\n",
      "Requirement already satisfied: typing-extensions~=4.0 in /home/jupyter/.local/lib/python3.10/site-packages (from gradio) (4.12.2)\n",
      "Requirement already satisfied: uvicorn>=0.14.0 in /home/jupyter/.local/lib/python3.10/site-packages (from gradio) (0.30.1)\n",
      "Requirement already satisfied: fsspec in /usr/local/lib/python3.10/dist-packages (from gradio-client==0.15.1->gradio) (2023.6.0)\n",
      "Requirement already satisfied: websockets<12.0,>=10.0 in /home/jupyter/.local/lib/python3.10/site-packages (from gradio-client==0.15.1->gradio) (11.0.3)\n",
      "Requirement already satisfied: entrypoints in /usr/local/lib/python3.10/dist-packages (from altair<6.0,>=4.2.0->gradio) (0.4)\n",
      "Requirement already satisfied: jsonschema>=3.0 in /usr/local/lib/python3.10/dist-packages (from altair<6.0,>=4.2.0->gradio) (4.3.3)\n",
      "Requirement already satisfied: toolz in /usr/local/lib/python3.10/dist-packages (from altair<6.0,>=4.2.0->gradio) (0.12.0)\n",
      "Requirement already satisfied: anyio in /usr/local/lib/python3.10/dist-packages (from httpx>=0.24.1->gradio) (3.7.1)\n",
      "Requirement already satisfied: httpcore==1.* in /home/jupyter/.local/lib/python3.10/site-packages (from httpx>=0.24.1->gradio) (1.0.5)\n",
      "Requirement already satisfied: sniffio in /usr/local/lib/python3.10/dist-packages (from httpx>=0.24.1->gradio) (1.3.0)\n",
      "Requirement already satisfied: h11<0.15,>=0.13 in /home/jupyter/.local/lib/python3.10/site-packages (from httpcore==1.*->httpx>=0.24.1->gradio) (0.14.0)\n",
      "Requirement already satisfied: filelock in /usr/local/lib/python3.10/dist-packages (from huggingface-hub>=0.19.3->gradio) (3.12.2)\n",
      "Requirement already satisfied: tqdm>=4.42.1 in /usr/local/lib/python3.10/dist-packages (from huggingface-hub>=0.19.3->gradio) (4.65.0)\n",
      "Requirement already satisfied: contourpy>=1.0.1 in /usr/local/lib/python3.10/dist-packages (from matplotlib~=3.0->gradio) (1.1.0)\n",
      "Requirement already satisfied: cycler>=0.10 in /usr/local/lib/python3.10/dist-packages (from matplotlib~=3.0->gradio) (0.11.0)\n",
      "Requirement already satisfied: fonttools>=4.22.0 in /usr/local/lib/python3.10/dist-packages (from matplotlib~=3.0->gradio) (4.41.1)\n",
      "Requirement already satisfied: kiwisolver>=1.0.1 in /usr/local/lib/python3.10/dist-packages (from matplotlib~=3.0->gradio) (1.4.4)\n",
      "Requirement already satisfied: pyparsing>=2.3.1 in /usr/local/lib/python3.10/dist-packages (from matplotlib~=3.0->gradio) (3.1.0)\n",
      "Requirement already satisfied: annotated-types>=0.4.0 in /home/jupyter/.local/lib/python3.10/site-packages (from pydantic>=2.0->gradio) (0.7.0)\n",
      "Requirement already satisfied: pydantic-core==2.18.4 in /home/jupyter/.local/lib/python3.10/site-packages (from pydantic>=2.0->gradio) (2.18.4)\n",
      "Requirement already satisfied: six>=1.5 in /usr/lib/python3/dist-packages (from python-dateutil>=2.8.1->pandas) (1.16.0)\n",
      "Requirement already satisfied: click<9.0.0,>=7.1.1 in /usr/local/lib/python3.10/dist-packages (from typer<1.0,>=0.9->typer[all]<1.0,>=0.9; sys_platform != \"emscripten\"->gradio) (8.1.6)\n",
      "Requirement already satisfied: colorama<0.5.0,>=0.4.3 in /usr/local/lib/python3.10/dist-packages (from typer[all]<1.0,>=0.9; sys_platform != \"emscripten\"->gradio) (0.4.6)\n",
      "Requirement already satisfied: shellingham<2.0.0,>=1.3.0 in /home/jupyter/.local/lib/python3.10/site-packages (from typer[all]<1.0,>=0.9; sys_platform != \"emscripten\"->gradio) (1.5.4)\n",
      "Requirement already satisfied: rich<14.0.0,>=10.11.0 in /usr/local/lib/python3.10/dist-packages (from typer[all]<1.0,>=0.9; sys_platform != \"emscripten\"->gradio) (13.4.2)\n",
      "Requirement already satisfied: starlette<0.38.0,>=0.37.2 in /home/jupyter/.local/lib/python3.10/site-packages (from fastapi->gradio) (0.37.2)\n",
      "Requirement already satisfied: attrs>=17.4.0 in /home/jupyter/.local/lib/python3.10/site-packages (from jsonschema>=3.0->altair<6.0,>=4.2.0->gradio) (23.2.0)\n",
      "Requirement already satisfied: pyrsistent!=0.17.0,!=0.17.1,!=0.17.2,>=0.14.0 in /usr/local/lib/python3.10/dist-packages (from jsonschema>=3.0->altair<6.0,>=4.2.0->gradio) (0.19.3)\n",
      "Requirement already satisfied: markdown-it-py>=2.2.0 in /usr/local/lib/python3.10/dist-packages (from rich<14.0.0,>=10.11.0->typer[all]<1.0,>=0.9; sys_platform != \"emscripten\"->gradio) (3.0.0)\n",
      "Requirement already satisfied: pygments<3.0.0,>=2.13.0 in /usr/local/lib/python3.10/dist-packages (from rich<14.0.0,>=10.11.0->typer[all]<1.0,>=0.9; sys_platform != \"emscripten\"->gradio) (2.14.0)\n",
      "Requirement already satisfied: exceptiongroup in /usr/local/lib/python3.10/dist-packages (from anyio->httpx>=0.24.1->gradio) (1.1.2)\n",
      "Requirement already satisfied: mdurl~=0.1 in /usr/local/lib/python3.10/dist-packages (from markdown-it-py>=2.2.0->rich<14.0.0,>=10.11.0->typer[all]<1.0,>=0.9; sys_platform != \"emscripten\"->gradio) (0.1.2)\n",
      "\n",
      "\u001b[1m[\u001b[0m\u001b[34;49mnotice\u001b[0m\u001b[1;39;49m]\u001b[0m\u001b[39;49m A new release of pip is available: \u001b[0m\u001b[31;49m23.0.1\u001b[0m\u001b[39;49m -> \u001b[0m\u001b[32;49m24.0\u001b[0m\n",
      "\u001b[1m[\u001b[0m\u001b[34;49mnotice\u001b[0m\u001b[1;39;49m]\u001b[0m\u001b[39;49m To update, run: \u001b[0m\u001b[32;49mpython3 -m pip install --upgrade pip\u001b[0m\n"
     ]
    }
   ],
   "source": [
    "pip install requests beautifulsoup4 markdown2 pandas gradio"
   ]
  },
  {
   "cell_type": "code",
   "execution_count": 2,
   "id": "5a3a915e-bf55-410b-a1da-b5721c2c6981",
   "metadata": {
    "execution": {
     "iopub.execute_input": "2024-06-13T16:09:40.632850Z",
     "iopub.status.busy": "2024-06-13T16:09:40.632380Z",
     "iopub.status.idle": "2024-06-13T16:09:45.806255Z",
     "shell.execute_reply": "2024-06-13T16:09:45.805392Z",
     "shell.execute_reply.started": "2024-06-13T16:09:40.632814Z"
    },
    "tags": []
   },
   "outputs": [
    {
     "name": "stdout",
     "output_type": "stream",
     "text": [
      "\u001b[33mWARNING: Skipping jwt as it is not installed.\u001b[0m\u001b[33m\n",
      "\u001b[0mDefaulting to user installation because normal site-packages is not writeable\n",
      "Requirement already satisfied: PyJWT in /home/jupyter/.local/lib/python3.10/site-packages (2.8.0)\n",
      "\n",
      "\u001b[1m[\u001b[0m\u001b[34;49mnotice\u001b[0m\u001b[1;39;49m]\u001b[0m\u001b[39;49m A new release of pip is available: \u001b[0m\u001b[31;49m23.0.1\u001b[0m\u001b[39;49m -> \u001b[0m\u001b[32;49m24.0\u001b[0m\n",
      "\u001b[1m[\u001b[0m\u001b[34;49mnotice\u001b[0m\u001b[1;39;49m]\u001b[0m\u001b[39;49m To update, run: \u001b[0m\u001b[32;49mpython3 -m pip install --upgrade pip\u001b[0m\n"
     ]
    }
   ],
   "source": [
    "# Устанавливаем пакеты, необходимые для обращения к YandexGPT\n",
    "%pip uninstall jwt\n",
    "%pip install PyJWT -U"
   ]
  },
  {
   "cell_type": "code",
   "execution_count": 3,
   "id": "4ecda61d-1a45-44b7-9b58-177b2ba5847a",
   "metadata": {
    "execution": {
     "iopub.execute_input": "2024-06-13T16:09:45.808589Z",
     "iopub.status.busy": "2024-06-13T16:09:45.807534Z",
     "iopub.status.idle": "2024-06-13T16:09:47.443225Z",
     "shell.execute_reply": "2024-06-13T16:09:47.442439Z",
     "shell.execute_reply.started": "2024-06-13T16:09:45.808550Z"
    },
    "tags": []
   },
   "outputs": [],
   "source": [
    "import requests, re, base64, json, os, time, jwt, markdown2, streamlit\n",
    "\n",
    "from bs4 import BeautifulSoup"
   ]
  },
  {
   "cell_type": "markdown",
   "id": "5e2f6ceb-cf88-4f24-87ba-ce41e37901a9",
   "metadata": {},
   "source": [
    "# Получение ссылок, парсинг XML-ответа YandexSearch API"
   ]
  },
  {
   "cell_type": "code",
   "execution_count": 4,
   "id": "1ad0d0df-eefb-4b5b-b471-dd63c90ac16c",
   "metadata": {
    "execution": {
     "iopub.execute_input": "2024-06-13T16:09:47.445970Z",
     "iopub.status.busy": "2024-06-13T16:09:47.445205Z",
     "iopub.status.idle": "2024-06-13T16:09:47.460866Z",
     "shell.execute_reply": "2024-06-13T16:09:47.460209Z",
     "shell.execute_reply.started": "2024-06-13T16:09:47.445932Z"
    },
    "tags": []
   },
   "outputs": [],
   "source": [
    "def get_urls_from_yandex(query, folder_id, api_key):\n",
    "    # Формирование URL запроса к API Яндекса\n",
    "    url = f\"https://yandex.ru/search/xml?folderid={folder_id}&apikey={api_key}&query={query}\"\n",
    "\n",
    "    response = requests.get(url)\n",
    "\n",
    "    if response.status_code != 200:\n",
    "        raise Exception(f\"ошибка при выполнении запроса: {response.status_code}\")\n",
    "\n",
    "    # Сохранение ответа в формате XML\n",
    "    xml_data = response.text\n",
    "    \n",
    "    # Парсинг XML\n",
    "    soup = BeautifulSoup(xml_data, 'xml')\n",
    "\n",
    "    # Извлечение первых 10 URL-адресов\n",
    "    urls = [url_tag.text for url_tag in soup.find_all('url')[:10]]\n",
    "\n",
    "    return urls\n",
    "\n",
    "folder_id = 'b1g60k1kva2jrejf255o'\n",
    "api_key = os.environ['YandexSearch-API-Key'] # secret YandexSearch-API-Key from environment variables\n",
    "model = 'MODEL'\n",
    "query = f'технические характеристики {model}'\n",
    "#OFF urls = get_urls_from_yandex(query, folder_id, api_key)\n",
    "#print(urls)\n"
   ]
  },
  {
   "cell_type": "markdown",
   "id": "8b80a8a7-492c-47b6-bd5e-dab03e9b1413",
   "metadata": {},
   "source": [
    "## Парсинг сайтов в текстовый вид"
   ]
  },
  {
   "cell_type": "code",
   "execution_count": 5,
   "id": "80e3fa44-cd02-450e-a38a-18204b016045",
   "metadata": {
    "execution": {
     "iopub.execute_input": "2024-06-13T16:09:47.471651Z",
     "iopub.status.busy": "2024-06-13T16:09:47.461868Z",
     "iopub.status.idle": "2024-06-13T16:09:47.493439Z",
     "shell.execute_reply": "2024-06-13T16:09:47.492669Z",
     "shell.execute_reply.started": "2024-06-13T16:09:47.471607Z"
    },
    "tags": []
   },
   "outputs": [],
   "source": [
    "# Функция парсинга html-страниц в текст\n",
    "def parse_pages(urls):\n",
    "    headers = {\n",
    "        \"User-Agent\": \"Mozilla/5.0 (Windows NT 10.0; Win64; x64) AppleWebKit/537.36 (KHTML, like Gecko) Chrome/91.0.4472.124 Safari/537.36\"\n",
    "    }\n",
    "    texts = []\n",
    "    for url in urls:\n",
    "\n",
    "        response = requests.get(url, headers=headers)\n",
    "        if response.status_code == 200:\n",
    "            soup = BeautifulSoup(response.text, 'html.parser')\n",
    "            text = soup.get_text(separator=' ', strip=True)\n",
    "            texts.append(text)\n",
    "        else:\n",
    "            texts.append(\"не удалось загрузить страницу)))\")\n",
    "    return texts\n",
    "#OFF texts = parse_pages(urls)\n",
    "\n",
    "#Вывод текста со всех страниц:\n",
    "\n",
    "# for i, text in enumerate(texts):\n",
    "#      print(f\"\\nТекст страницы {i+1}:\\n\", text)\n"
   ]
  },
  {
   "cell_type": "markdown",
   "id": "e111246e-2b2c-4fa5-bb46-96086e042932",
   "metadata": {
    "jp-MarkdownHeadingCollapsed": true,
    "tags": []
   },
   "source": [
    "## Словарь с характеристиками ноутбуков (tests)"
   ]
  },
  {
   "cell_type": "code",
   "execution_count": 6,
   "id": "f78b5ec9-f654-4913-a8a9-e1e191a1d3a7",
   "metadata": {
    "execution": {
     "iopub.execute_input": "2024-06-13T16:09:47.496317Z",
     "iopub.status.busy": "2024-06-13T16:09:47.494635Z",
     "iopub.status.idle": "2024-06-13T16:09:47.528264Z",
     "shell.execute_reply": "2024-06-13T16:09:47.527385Z",
     "shell.execute_reply.started": "2024-06-13T16:09:47.496263Z"
    },
    "tags": []
   },
   "outputs": [],
   "source": [
    "specs =  { \"ExpressCard\": None, \"PartNumber/Артикул Производителя\": None, \"Touch bar\": None, \"Акустическая система\": None, \"Антибактериальное покрытие\": None, \"Базовая модель\": None, \"Батарея\": None, \"Бренд\": None, \"Веб-камера\": None, \"Версия Bluetooth\": None, \"Версия операционной системы\": None, \"Вес товара\": None, \"Вес упаковки (ед)\": None, \"Видеопамять дискретного контроллера\": None, \"Видеопамять дискретного контроллера ГБ\": None, \"Влагозащитный корпус\": None, \"Внешняя поверхность\": None, \"Возможность апгрейда\": None, \"Возможность апгрейда HDD/SSD\": None, \"Возможность апгрейда оперативной памяти\": None, \"Возможность зарядки от Type-C (USB Power Delivery)\": None, \"Возможность передачи видео через USB Type-C\": None, \"Встроенная солнечная батарея\": None, \"Встроенный TV-тюнер\": None, \"Встроенный кард-ридер\": None, \"Встроенный микрофон\": None, \"Встроенный сабвуфер\": None, \"Входное напряжение (макс)\": None, \"Входное напряжение (мин)\": None, \"Высота (максимальная)\": None, \"Высота (минимальная)\": None, \"Высота упаковки (ед)\": None, \"Габариты упаковки (ед) ДхШхВ\": None, \"Глубина товара\": None, \"Год релиза\": None, \"Диагональ экрана в дюймах\": None, \"Длина упаковки (ед)\": None, \"Для геймеров\": None, \"Для дизайна\": None, \"Для работы\": None, \"Для учебы\": None, \"Док-станция в комплекте\": None, \"Жесткие диски (подбор)\": None, \"Клавиатура с русскими буквами\": None, \"Клавиатура только с латинскими буквами\": None, \"Код гарантии\": None, \"Количество HDD\": None, \"Количество SSD\": None, \"Количество высокопроизводительных ядер\": None, \"Количество графических контроллеров\": None, \"Количество динамиков\": None, \"Количество логистических мест\": None, \"Количество микрофонов\": None, \"Количество разъемов жесткого диска\": None, \"Количество энергоэффективных ядер\": None, \"Количество ядер процессора\": None, \"Мак. скорость передачи данных (Type-A)\": None, \"Мак. скорость передачи данных (Type-C)\": None, \"Максимальное время работы от батареи\": None, \"Максимальное разрешение внешнего монитора\": None, \"Максимальное число потоков\": None, \"Материал для фильтра Ситилинк\": None, \"Материал корпуса\": None, \"Модель\": None, \"Модель граф. контроллера\": None, \"Модем\": None, \"Мультитач\": None, \"Мышь в комплекте\": None, \"Настройка подсветки клавиатуры\": None, \"Общее количество портов USB Type-A\": None, \"Общее количество портов USB Type-С\": None, \"Объем HDD\": None, \"Объем SSD\": None, \"Объем кэша L2\": None, \"Объем кэша L3\": None, \"Объем оперативной памяти\": None, \"Объем первого SSD\": None, \"Объем упаковки (ед)\": None, \"Оперативная память\": None, \"Операционная система\": None, \"Операционная система ноутбука\": None, \"Особенности\": None, \"Особенности корпуса\": None, \"Параллельный импорт\": None, \"Плотность пикселей\": None, \"Поверхность экрана\": None, \"Поворотный экран (Tablet PC)\": None, \"Поддержка HDR\": None, \"Поддержка технологии 3G\": None, \"Поддержка технологии Bluetooth\": None, \"Поддержка технологии WiDi\": None, \"Поддержка технологии Wi-Fi\": None, \"Поддержка технологии WiMAX\": None, \"Поддержка языков\": None, \"Подсветка клавиш клавиатуры\": None, \"Порты e-SATA/USB\": None, \"Порты USB 2.0 (Type-A)\": None, \"Порты USB 3.0 (Type-A)\": None, \"Последовательный порт (RS-232)\": None, \"Производитель товара\": None, \"Процессор\": None, \"Процессор (для автозаполнения)\": None, \"Процессор, модель\": None, \"Процессор, производитель\": None, \"Процессор, серия\": None, \"Процессор, частота\": None, \"Разблокировка по лицу\": None, \"Размер (ноутбуки)\": None, \"Размеры\": None, \"Размеры корпуса\": None, \"Разрешение\": None, \"Разрешение (для фильтра Ситилинк)\": None, \"Разрешение веб-камеры\": None, \"Разрешение матрицы экрана\": None, \"Разр-ние экрана, верт-ное\": None, \"Разр-ние экрана, гор-ное\": None, \"Разрядность ОС\": None, \"Разъем DisplayPort\": None, \"Разъем D-Sub\": None, \"Разъем DVI\": None, \"Разъем e-SATA\": None, \"Разъем HDMI\": None, \"Разъем IEEE 1394 (Firewire)\": None, \"Разъем micro HDMI\": None, \"Разъем mini DisplayPort\": None, \"Разъем mini DVI\": None, \"Разъем mini HDMI\": None, \"Разъем для микрофона\": None, \"Разъем для наушников\": None, \"Разъем наушники/микрофон\": None, \"Разъем порт-репликатора\": None, \"Разъемов Thunderbolt\": None, \"Разъемов Thunderbolt 2\": None, \"Разъемов Thunderbolt 3\": None, \"Распаянная оперативная память\": None, \"Светодиодная подсветка экрана\": None, \"Семейство\": None, \"Сенсорный экран\": None, \"Серия (для фильтра Ситилинка)\": None, \"Серия граф. контроллера\": None, \"Сканер отпечатка пальца\": None, \"Слот замка безопасности\": None, \"Соотношение сторон\": None, \"Срок службы товара\": None, \"Ссылка на сайт поставщика/вендора\": None, \"Стандарт Wi-Fi\": None, \"Стилус в комплекте\": None, \"Сумка в комплекте\": None, \"Техпроцесс / литография\": None, \"Тип\": None, \"Тип ODD\": None, \"Тип батареи\": None, \"Тип видеопамяти\": None, \"Тип вилки\": None, \"Тип графического контроллера\": None, \"Тип кабельной сети (разъем RJ-45)\": None, \"Тип матрицы\": None, \"Тип матрицы (как указывает производитель)\": None, \"Тип оперативной памяти\": None, \"Трансформер\": None, \"Угол обзора\": None, \"Ударопрочный корпус\": None, \"Устройства позиционирования\": None, \"Функция Мультиэкран\": None, \"Функция быстрой зарядки\": None, \"Цвет (маркетинговый)\": None, \"Цвет для фильтра\": None, \"Цвет клавиатуры ноутбука\": None, \"Цвет подсветки клавиатуры\": None, \"Цветовое решение\": None, \"Цифровой блок клавиатуры\": None, \"Частота обновления\": None, \"Частота оперативной памяти\": None, \"Число ядер GPU\": None, \"Ширина товара\": None, \"Ширина упаковки (ед)\": None, \"Широкоформатный экран\": None, \"Экран с поддержкой 3D\": None, \"Энергоемкость батареи (Wh)\": None, \"Язык клавиатуры\": None, \"Яркость экрана\": None, \"Видеокарта\": None, \"Внутренняя поверхность\": None, \"Второй экран\": None, \"Выходная мощность адаптера питания\": None, \"Динамический экран\": None, \"Дополнительно в комплекте\": None, \"Количество слотов под модули памяти\": None, \"Поддержка NFC\": None, \"Пропускная способность памяти\": None, \"Процессор, частота (в режиме turbo)\": None, \"Разъемов Thunderbolt 4\": None, \"Режим защиты зрения\": None, \"Среднее время работы\": None, \"Технология HDR\": None, \"Комплектация\": None, \"Дополнительные технологии\": None, \"Контраст к 1\": None, \"Поддержка карт памяти\": None, \"Ядро процессора\": None, \"Батарея (cell)\": None, \"Версия HDMI\": None, \"Ёмкость батареи (mAh)\": None, \"Интерфейс первого разъема установленного SSD\": None, \"Количество свободных разъемов жесткого диска\": None, \"Мощность одного динамика\": None, \"Напряжение батареи (V)\": None, \"Первый разъем возможного апгрейда\": None, \"Порты USB 3.0 (Type-C)\": None, \"Порты USB 3.1 (Type-A)\": None, \"Порты USB 3.1 (Type-C)\": None, \"Разъем SSD\": None, \"Тип веб-камеры\": None, \"Форм-фактор первого разъема возможного апгрейда\": None, \"Форм-фактора первого разъема установленного SSD\": None, \"Цветовой охват sRGB\": None, \"Интерфейс первого разъема возможного апгрейда\": None, \"Относительная площадь экрана\": None, \"Охлаждение\": None, \"Особенности жестких дисков\": None, \"Произведено в РФ\": None, \"Цветовой охват NTSC\": None, \"Порты USB 2.0 (Type-C)\": None, \"Количество занятых слотов оперативной памяти\": None, \"Количество свободных слотов оперативной памяти\": None, \"Макс. объем оперативной памяти\": None, \"Описание возможностей апгрейда\": None, \"Поддержка технологии 4G\": None, \"Порты USB 3.2 (Type-A)\": None, \"Порты USB 3.2 (Type-C)\": None, }"
   ]
  },
  {
   "cell_type": "code",
   "execution_count": 7,
   "id": "8a29b444-2914-4409-a02e-faeafd7a2998",
   "metadata": {
    "execution": {
     "iopub.execute_input": "2024-06-13T16:09:47.530153Z",
     "iopub.status.busy": "2024-06-13T16:09:47.529223Z",
     "iopub.status.idle": "2024-06-13T16:09:47.545624Z",
     "shell.execute_reply": "2024-06-13T16:09:47.544569Z",
     "shell.execute_reply.started": "2024-06-13T16:09:47.530119Z"
    },
    "tags": []
   },
   "outputs": [
    {
     "data": {
      "text/plain": [
       "dict_keys(['ExpressCard', 'PartNumber/Артикул Производителя', 'Touch bar', 'Акустическая система', 'Антибактериальное покрытие', 'Базовая модель', 'Батарея', 'Бренд', 'Веб-камера', 'Версия Bluetooth', 'Версия операционной системы', 'Вес товара', 'Вес упаковки (ед)', 'Видеопамять дискретного контроллера', 'Видеопамять дискретного контроллера ГБ', 'Влагозащитный корпус', 'Внешняя поверхность', 'Возможность апгрейда', 'Возможность апгрейда HDD/SSD', 'Возможность апгрейда оперативной памяти', 'Возможность зарядки от Type-C (USB Power Delivery)', 'Возможность передачи видео через USB Type-C', 'Встроенная солнечная батарея', 'Встроенный TV-тюнер', 'Встроенный кард-ридер', 'Встроенный микрофон', 'Встроенный сабвуфер', 'Входное напряжение (макс)', 'Входное напряжение (мин)', 'Высота (максимальная)', 'Высота (минимальная)', 'Высота упаковки (ед)', 'Габариты упаковки (ед) ДхШхВ', 'Глубина товара', 'Год релиза', 'Диагональ экрана в дюймах', 'Длина упаковки (ед)', 'Для геймеров', 'Для дизайна', 'Для работы', 'Для учебы', 'Док-станция в комплекте', 'Жесткие диски (подбор)', 'Клавиатура с русскими буквами', 'Клавиатура только с латинскими буквами', 'Код гарантии', 'Количество HDD', 'Количество SSD', 'Количество высокопроизводительных ядер', 'Количество графических контроллеров', 'Количество динамиков', 'Количество логистических мест', 'Количество микрофонов', 'Количество разъемов жесткого диска', 'Количество энергоэффективных ядер', 'Количество ядер процессора', 'Мак. скорость передачи данных (Type-A)', 'Мак. скорость передачи данных (Type-C)', 'Максимальное время работы от батареи', 'Максимальное разрешение внешнего монитора', 'Максимальное число потоков', 'Материал для фильтра Ситилинк', 'Материал корпуса', 'Модель', 'Модель граф. контроллера', 'Модем', 'Мультитач', 'Мышь в комплекте', 'Настройка подсветки клавиатуры', 'Общее количество портов USB Type-A', 'Общее количество портов USB Type-С', 'Объем HDD', 'Объем SSD', 'Объем кэша L2', 'Объем кэша L3', 'Объем оперативной памяти', 'Объем первого SSD', 'Объем упаковки (ед)', 'Оперативная память', 'Операционная система', 'Операционная система ноутбука', 'Особенности', 'Особенности корпуса', 'Параллельный импорт', 'Плотность пикселей', 'Поверхность экрана', 'Поворотный экран (Tablet PC)', 'Поддержка HDR', 'Поддержка технологии 3G', 'Поддержка технологии Bluetooth', 'Поддержка технологии WiDi', 'Поддержка технологии Wi-Fi', 'Поддержка технологии WiMAX', 'Поддержка языков', 'Подсветка клавиш клавиатуры', 'Порты e-SATA/USB', 'Порты USB 2.0 (Type-A)', 'Порты USB 3.0 (Type-A)', 'Последовательный порт (RS-232)', 'Производитель товара', 'Процессор', 'Процессор (для автозаполнения)', 'Процессор, модель', 'Процессор, производитель', 'Процессор, серия', 'Процессор, частота', 'Разблокировка по лицу', 'Размер (ноутбуки)', 'Размеры', 'Размеры корпуса', 'Разрешение', 'Разрешение (для фильтра Ситилинк)', 'Разрешение веб-камеры', 'Разрешение матрицы экрана', 'Разр-ние экрана, верт-ное', 'Разр-ние экрана, гор-ное', 'Разрядность ОС', 'Разъем DisplayPort', 'Разъем D-Sub', 'Разъем DVI', 'Разъем e-SATA', 'Разъем HDMI', 'Разъем IEEE 1394 (Firewire)', 'Разъем micro HDMI', 'Разъем mini DisplayPort', 'Разъем mini DVI', 'Разъем mini HDMI', 'Разъем для микрофона', 'Разъем для наушников', 'Разъем наушники/микрофон', 'Разъем порт-репликатора', 'Разъемов Thunderbolt', 'Разъемов Thunderbolt 2', 'Разъемов Thunderbolt 3', 'Распаянная оперативная память', 'Светодиодная подсветка экрана', 'Семейство', 'Сенсорный экран', 'Серия (для фильтра Ситилинка)', 'Серия граф. контроллера', 'Сканер отпечатка пальца', 'Слот замка безопасности', 'Соотношение сторон', 'Срок службы товара', 'Ссылка на сайт поставщика/вендора', 'Стандарт Wi-Fi', 'Стилус в комплекте', 'Сумка в комплекте', 'Техпроцесс / литография', 'Тип', 'Тип ODD', 'Тип батареи', 'Тип видеопамяти', 'Тип вилки', 'Тип графического контроллера', 'Тип кабельной сети (разъем RJ-45)', 'Тип матрицы', 'Тип матрицы (как указывает производитель)', 'Тип оперативной памяти', 'Трансформер', 'Угол обзора', 'Ударопрочный корпус', 'Устройства позиционирования', 'Функция Мультиэкран', 'Функция быстрой зарядки', 'Цвет (маркетинговый)', 'Цвет для фильтра', 'Цвет клавиатуры ноутбука', 'Цвет подсветки клавиатуры', 'Цветовое решение', 'Цифровой блок клавиатуры', 'Частота обновления', 'Частота оперативной памяти', 'Число ядер GPU', 'Ширина товара', 'Ширина упаковки (ед)', 'Широкоформатный экран', 'Экран с поддержкой 3D', 'Энергоемкость батареи (Wh)', 'Язык клавиатуры', 'Яркость экрана', 'Видеокарта', 'Внутренняя поверхность', 'Второй экран', 'Выходная мощность адаптера питания', 'Динамический экран', 'Дополнительно в комплекте', 'Количество слотов под модули памяти', 'Поддержка NFC', 'Пропускная способность памяти', 'Процессор, частота (в режиме turbo)', 'Разъемов Thunderbolt 4', 'Режим защиты зрения', 'Среднее время работы', 'Технология HDR', 'Комплектация', 'Дополнительные технологии', 'Контраст к 1', 'Поддержка карт памяти', 'Ядро процессора', 'Батарея (cell)', 'Версия HDMI', 'Ёмкость батареи (mAh)', 'Интерфейс первого разъема установленного SSD', 'Количество свободных разъемов жесткого диска', 'Мощность одного динамика', 'Напряжение батареи (V)', 'Первый разъем возможного апгрейда', 'Порты USB 3.0 (Type-C)', 'Порты USB 3.1 (Type-A)', 'Порты USB 3.1 (Type-C)', 'Разъем SSD', 'Тип веб-камеры', 'Форм-фактор первого разъема возможного апгрейда', 'Форм-фактора первого разъема установленного SSD', 'Цветовой охват sRGB', 'Интерфейс первого разъема возможного апгрейда', 'Относительная площадь экрана', 'Охлаждение', 'Особенности жестких дисков', 'Произведено в РФ', 'Цветовой охват NTSC', 'Порты USB 2.0 (Type-C)', 'Количество занятых слотов оперативной памяти', 'Количество свободных слотов оперативной памяти', 'Макс. объем оперативной памяти', 'Описание возможностей апгрейда', 'Поддержка технологии 4G', 'Порты USB 3.2 (Type-A)', 'Порты USB 3.2 (Type-C)'])"
      ]
     },
     "execution_count": 7,
     "metadata": {},
     "output_type": "execute_result"
    }
   ],
   "source": [
    "specs.keys()"
   ]
  },
  {
   "cell_type": "markdown",
   "id": "a4a9c604-02e4-4be7-8557-98d1f988999f",
   "metadata": {},
   "source": [
    "## Task 2. Обработка датафрейма с 4 категориями и характеристиками"
   ]
  },
  {
   "cell_type": "code",
   "execution_count": 8,
   "id": "cc3d30e9-a8fa-4059-83f3-3179ebd49666",
   "metadata": {
    "execution": {
     "iopub.execute_input": "2024-06-13T16:09:47.548103Z",
     "iopub.status.busy": "2024-06-13T16:09:47.546837Z",
     "iopub.status.idle": "2024-06-13T16:10:53.830748Z",
     "shell.execute_reply": "2024-06-13T16:10:53.829897Z",
     "shell.execute_reply.started": "2024-06-13T16:09:47.548060Z"
    },
    "tags": []
   },
   "outputs": [],
   "source": [
    "import pandas as pd\n",
    "\n",
    "file_path = '/home/jupyter/datasphere/project/models_df.xlsx'\n",
    "\n",
    "# Читаем все листы Excel-файла в один словарь\n",
    "sheets_dict = pd.read_excel(file_path, sheet_name=None)\n",
    "\n",
    "\n",
    "artikul_dict = {}\n",
    "\n",
    "# Проходим по всем листам, заполняем словарь, где ключ - артикул, а значение - словарь характеристик по артикулу\n",
    "for sheet_name, sheet_data in sheets_dict.items():\n",
    "    \n",
    "    sheet_data['Код товара'] = sheet_data['Код товара'].astype(str)\n",
    "    \n",
    "    for artikul in sheet_data['Код товара'].unique():\n",
    "        artikul_data = sheet_data[sheet_data['Код товара'] == artikul]\n",
    "        characteristics = {}\n",
    "        for index, row in artikul_data.iterrows():\n",
    "            characteristic_name = row['Название характеристики']\n",
    "            characteristic_value = row['Значение характеристики (таргет)']\n",
    "            characteristics[characteristic_name] = characteristic_value\n",
    "        artikul_dict[artikul] = characteristics"
   ]
  },
  {
   "cell_type": "code",
   "execution_count": 9,
   "id": "9c97ed95-5e94-4a0c-91b4-08300c7483bd",
   "metadata": {
    "execution": {
     "iopub.execute_input": "2024-06-13T16:10:53.833316Z",
     "iopub.status.busy": "2024-06-13T16:10:53.831775Z",
     "iopub.status.idle": "2024-06-13T16:10:53.848363Z",
     "shell.execute_reply": "2024-06-13T16:10:53.847536Z",
     "shell.execute_reply.started": "2024-06-13T16:10:53.833279Z"
    },
    "tags": []
   },
   "outputs": [],
   "source": [
    "# Функция получения всех характеристик по артикулу, обработка неизвестных артикулов\n",
    "def get_characteristics_by_artikul(artikul, artikul_dict):\n",
    "    artikul = str(artikul)\n",
    "    return artikul_dict.get(artikul, \"Артикул не найден\")"
   ]
  },
  {
   "cell_type": "markdown",
   "id": "4a9368ee-00ff-4984-bcad-2edc2c4ae690",
   "metadata": {},
   "source": [
    "## Подключение YandexGPT API"
   ]
  },
  {
   "cell_type": "code",
   "execution_count": 10,
   "id": "06196235-5283-4dbe-9458-b8e19c33cb76",
   "metadata": {
    "execution": {
     "iopub.execute_input": "2024-06-13T16:10:53.852622Z",
     "iopub.status.busy": "2024-06-13T16:10:53.851172Z",
     "iopub.status.idle": "2024-06-13T16:10:53.876490Z",
     "shell.execute_reply": "2024-06-13T16:10:53.875616Z",
     "shell.execute_reply.started": "2024-06-13T16:10:53.852586Z"
    },
    "tags": []
   },
   "outputs": [],
   "source": [
    "# Функция для получения токена от YandexGPT - подключение API\n",
    "def get_yandex_gpt_token():\n",
    "    service_account_id = \"ajelnu35h5rleak8ttco\"\n",
    "    key_id = \"ajeqbm3poihdm8br05l3\"\n",
    "    private_key = os.environ['YandexGPT-IAM-Key']\n",
    "    now = int(time.time())\n",
    "    payload = {\n",
    "        'aud': 'https://iam.api.cloud.yandex.net/iam/v1/tokens',\n",
    "        'iss': service_account_id,\n",
    "        'iat': now,\n",
    "        'exp': now + 360}\n",
    "\n",
    "    encoded_token = jwt.encode(\n",
    "        payload,\n",
    "        private_key,\n",
    "        algorithm='PS256',\n",
    "        headers={'kid': key_id})\n",
    "\n",
    "    url = 'https://iam.api.cloud.yandex.net/iam/v1/tokens'\n",
    "    x = requests.post(url, headers={'Content-Type': 'application/json'}, json={'jwt': encoded_token}).json()\n",
    "    return x['iamToken']"
   ]
  },
  {
   "cell_type": "markdown",
   "id": "4b224dfc-d0d2-44b9-b328-d359c69087ea",
   "metadata": {
    "jp-MarkdownHeadingCollapsed": true,
    "tags": []
   },
   "source": [
    "## Профессиональный промпт для технического описания"
   ]
  },
  {
   "cell_type": "code",
   "execution_count": 11,
   "id": "255a11da-95e8-4e51-978e-acdadc263849",
   "metadata": {
    "execution": {
     "iopub.execute_input": "2024-06-13T16:10:53.879457Z",
     "iopub.status.busy": "2024-06-13T16:10:53.877710Z",
     "iopub.status.idle": "2024-06-13T16:10:53.907048Z",
     "shell.execute_reply": "2024-06-13T16:10:53.906172Z",
     "shell.execute_reply.started": "2024-06-13T16:10:53.879419Z"
    },
    "tags": []
   },
   "outputs": [],
   "source": [
    "# metaprompt = \"\"\"\n",
    "# Сегодня вы будете писать структурированное и подробное маркетинговое описание технологического продукта.\n",
    "# Исходные данные будут включать название продукта и различные технические характеристики.\n",
    "# Ваша цель - создать четкое, сжатое и всеобъемлющее описание, подходящее для маркетинговых целей.\n",
    "# В описании следует выделить уникальные преимущества продукта, подробно объяснить одну ключевую особенность и кратко упомянуть другие особенности.\n",
    "# Кроме того, упростите технические термины для лучшего понимания и подчеркните возможности продукта по решению проблем.\n",
    "# <Task Instruction Example>\n",
    "# <Task>\n",
    "# Создать маркетинговое описание товара.\n",
    "# </Task>\n",
    "# <Inputs>\n",
    "# {SPECS}\n",
    "# </Inputs>\n",
    "# <Instructions>\n",
    "# Вы будете создавать маркетинговое описание товара на основе предоставленных характеристик.\n",
    "# Когда я напишу \"НАЧАТЬ ОПИСАНИЕ:\", вы приступите к выполнению этой задачи. Вся дальнейшая информация от \"Инструктора:\" будет касаться конкретного товара.\n",
    "# Вот важные правила для выполнения задачи:\n",
    "# - Текст должен быть написан на русском языке.\n",
    "# - Объем текста должен быть от 1500 до 3000 символов.\n",
    "# - Пожалуйста, напишите ответ, используя правильную разметку Markdown, чтобы он выглядел красиво и был правильно структурирован. Убедитесь, что списки правильно оформлены с использованием символов `*` или `-`. Избегайте лишних символов, таких как \\n и лишних *.\n",
    "# Пример структуры, которую я ожидаю:\n",
    "# ## Заголовок\n",
    "# Описание\n",
    "# ### Основные характеристики:\n",
    "# - Характеристика 1\n",
    "# - Характеристика 2\n",
    "# ### Преимущества:\n",
    "# - Преимущество 1\n",
    "# - Преимущество 2\n",
    "# - Текст должен быть структурированным и персонализированным, с вежливыми обращениями к покупателю («вы», «вам», «ваши»), но без злоупотребления обращениями и написания их с большой буквы.\n",
    "# - Заголовки должны:\n",
    "#   - Раскрывать уникальное торговое предложение (УТП) или выгоды клиента.\n",
    "#   - Упоминать «боли» клиента и товар как их решение.\n",
    "#   - Призывать к действию.\n",
    "#   - Быть эмоционально заряженными.\n",
    "#   - Содержать вопросы к аудитории.\n",
    "# - В тексте необходимо информировать о назначении товара (какую проблему клиента решает товар?) хотя бы одним сильным тезисом.\n",
    "# - Кратко обозначить особенности и/или преимущества. В абзацах под заголовками подробно раскрыть наиболее важные преимущества или дать наиболее важную информацию.\n",
    "# - Раскрыть ключевые преимущества бренда, коллекции и/или подхода к производству (например, «зеленое» производство, отсутствие тестирования на животных, социально ответственное производство, благотворительные программы от продажи данного товара), если производитель действительно следит за этим.\n",
    "# - Аккуратно работать с возражениями, например, если телефон имеет маленький объем оперативной памяти, но большой объем встроенной памяти, сделать акцент на количестве встроенной памяти.\n",
    "# Структура текста:\n",
    "# - Абзацы размером не более 3-4 предложений каждый.\n",
    "# - Использование маркированных и/или нумерованных списков.\n",
    "# - В начале описания указать название товара – связку «Тип товара» + «Бренд» + «Модель».\n",
    "# - Способ применения, состав, комплектация должны быть вынесены в отдельные характеристики.\n",
    "# Недопустимые действия:\n",
    "# - Не преподносить обычное свойство товара в качестве преимущества. Если у товара нет отстройки от конкурентов по этому параметру, не нужно выдавать его за особенность. Если товар сделан из пластика, не нужно писать «сделан из высококачественного пластика». Упомяните материал корпуса только если клиенты подчеркивают его надежность или он важен для совершения покупки.\n",
    "# - Не вызывать ярко выраженные отрицательные эмоции у покупателя, не стыдить и не запугивать его. Акцент должен быть сделан на благополучном решении проблемы и повышении качества жизни.\n",
    "# - Не использовать более 2-3 восклицательных знаков на весь текст. Текст должен быть позитивным, но не экзальтированным.\n",
    "# - Уникальность описания должна быть не менее 80%.\n",
    "# Стоп-слова (бан-ворды):\n",
    "# - «скидка», «распродажа», «дешевый», «подарок» (кроме подарочных категорий), «бесплатно», «акция», «специальная цена», «новинка», «new», «аналог», «заказ», «хит».\n",
    "# Исключаем штампы (не использовать в генерации ответа):\n",
    "# - Отличается высокой прочностью и длительной эксплуатацией.\n",
    "# - Максимально комфортный дизайн.\n",
    "# - Осуществляется надежная защита.\n",
    "# - Окажется хорошим выбором.\n",
    "# - Окажется прекрасным приобретением.\n",
    "# - Наслаждайтесь непревзойденным качеством.\n",
    "# - Привлекательный внешний вид.\n",
    "# - Прекрасное приобретение.\n",
    "# - Незаменимое дополнение.\n",
    "# - Незабываемые впечатления от просмотра.\n",
    "# - В самых непредвиденных условиях.\n",
    "# - Длительный срок эксплуатации.\n",
    "# - Среди достоинств можно назвать…\n",
    "# - Лучший выбор для вас.\n",
    "# Пустые оценки (не использовать в генерации ответа):\n",
    "# - Красивый.\n",
    "# - Мощный.\n",
    "# - Удобный.\n",
    "# - Высококлассный.\n",
    "# - Достойный.\n",
    "# - Инновационный.\n",
    "# - Внушительный.\n",
    "# - Высококачественный.\n",
    "# - Высококлассный.\n",
    "# - Гарантированный.\n",
    "# - Эксклюзивный.\n",
    "# Излишние усилители (не использовать в генерации ответа):\n",
    "# - Абсолютно.\n",
    "# - Невероятно.\n",
    "# - Предельно.\n",
    "# - Максимально.\n",
    "# - Безусловно.\n",
    "# - Совершенно.\n",
    "# Избегаем вводных конструкций (не использовать в генерации ответа):\n",
    "# - Как известно.\n",
    "# - Не секрет.\n",
    "# - Между прочим.\n",
    "# - Очевидно.\n",
    "# - Вдобавок.\n",
    "# - Естественно.\n",
    "# Обобщающие и неопределённые (не использовать в генерации ответа):\n",
    "# - В некоторых случаях.\n",
    "# - Во всех отношениях.\n",
    "# - Разнообразный.\n",
    "# - Различного рода.\n",
    "# - В целом.\n",
    "# - В среднем.\n",
    "# Паразиты времени (не использовать в генерации ответа):\n",
    "# - Сегодня.\n",
    "# - Сейчас.\n",
    "# - В настоящее время.\n",
    "# - В наши дни.\n",
    "# - В современном мире.\n",
    "# Исключи уточнения в конце по типу (не использовать в генерации ответа):\n",
    "# - Обратите внимание, что цены и характеристики могут меняться, поэтому перед покупкой рекомендуется уточнить актуальную информацию у продавца.\n",
    "# Разделённые конструкции:\n",
    "# - Плохо: Для планшета подойдёт чехол, который имеет легкое магнитное крепление.\n",
    "# - Хорошо: Для планшета подойдёт чехол с лёгким магнитным креплением.\n",
    "# Страдательный залог:\n",
    "# - Плохо: Механизм оборудован 6 шарикоподшипниками, обеспечивающими плавный ход.\n",
    "# - Хорошо: Механизм оборудован 6 подшипниками для плавного хода.\n",
    "# Сложные предложения:\n",
    "# - Плохо: Тонкий, но практичный чехол Tab S предлагает магнитное крепление для фиксации, клавиатура у него съемного типа, так что изделие сможет выступить просто в роли чехла.\n",
    "# - Хорошо: Tab S - тонкий, но практичный чехол с магнитным креплением для фиксации. При необходимости клавиатуру можно снять и оставить только заднюю часть чехла.\n",
    "# Ваша задача заключается в написании маркетингового описания товара на основе предоставленных характеристик:\n",
    "# <characteristics>\n",
    "# {SPECS}\n",
    "# </characteristics>\n",
    "# НАЧАТЬ ОПИСАНИЕ:\n",
    "# <description>\n",
    "# <instructions>\n",
    "# \"\"\""
   ]
  },
  {
   "cell_type": "code",
   "execution_count": 12,
   "id": "32b78a35-1abe-446b-a43b-c77ae36617b8",
   "metadata": {
    "execution": {
     "iopub.execute_input": "2024-06-13T16:10:53.913512Z",
     "iopub.status.busy": "2024-06-13T16:10:53.911637Z",
     "iopub.status.idle": "2024-06-13T16:10:53.942136Z",
     "shell.execute_reply": "2024-06-13T16:10:53.941371Z",
     "shell.execute_reply.started": "2024-06-13T16:10:53.913470Z"
    },
    "tags": []
   },
   "outputs": [],
   "source": [
    "metaprompt = \"\"\"Сегодня вы будете писать структурированное и подробное маркетинговое описание технологического продукта. Исходные данные будут включать только характеристики товара в структурированном словаре (ключ: значение). \n",
    "Ваша цель — создать четкое, сжатое и всеобъемлющее описание, подходящее для маркетинговых целей. В описании следует выделить уникальные преимущества продукта, подробно объяснить одну ключевую особенность и кратко упомянуть другие особенности. \n",
    "Упростите технические термины для лучшего понимания и подчеркните возможности продукта по решению проблем.\n",
    "Когда я напишу \"НАЧАТЬ ОПИСАНИЕ\", вы приступите к выполнению этой задачи.\n",
    "Исходные данные, словарь, где ключ - название характеристики, а значение - сама характеристика товара:\n",
    "{SPECS}\n",
    "Важные правила для выполнения задачи:\n",
    "\n",
    "Текст должен быть написан на русском языке.\n",
    "Объем текста должен быть от 1500 до 3000 символов.\n",
    "Напишите ответ, используя правильную разметку Markdown, чтобы он выглядел красиво и был правильно структурирован. Убедитесь, что списки правильно оформлены с использованием символов * или -. Избегайте лишних символов, таких как \\n и лишних *.\n",
    "\n",
    "Структура текста:\n",
    "\n",
    "Название товара:\n",
    "Связка «Тип товара» + «Модель».\n",
    "\n",
    "Описание:\n",
    "Персонализированное обращение к покупателю («вы», «вам», «ваши»).\n",
    "Информирование о назначении товара (какую проблему клиента решает товар?) хотя бы одним сильным тезисом.\n",
    "\n",
    "Основные характеристики:\n",
    "Список ключевых характеристик.\n",
    "\n",
    "Преимущества:\n",
    "Раскрытие ключевых преимуществ товара.\n",
    "\n",
    "Дополнительная информация:\n",
    "Кратко обозначьте особенности и/или преимущества.\n",
    "В абзацах под заголовками подробно раскройте наиболее важные преимущества или дайте наиболее важную информацию.\n",
    "Аккуратная работа с возражениями: например, если телефон имеет маленький объем оперативной памяти, но большой объем встроенной памяти, сделайте акцент на количестве встроенной памяти.\n",
    "\n",
    "Заключение:\n",
    "Подчеркните, как товар улучшает качество жизни покупателя.\n",
    "\n",
    "Недопустимые действия:\n",
    "Не преподносить обычное свойство товара в качестве преимущества. Если у товара нет отстройки от конкурентов по этому параметру, не нужно выдавать его за особенность.\n",
    "Не вызывать ярко выраженные отрицательные эмоции у покупателя, не стыдить и не запугивать его. Акцент должен быть сделан на благополучном решении проблемы и повышении качества жизни.\n",
    "Не использовать более 2-3 восклицательных знаков на весь текст. Текст должен быть позитивным, но не экзальтированным.\n",
    "\n",
    "Уникальность описания должна быть не менее 80%.\n",
    "\n",
    "Стоп-слова (не использовать в генерации ответа):\n",
    "«скидка», «распродажа», «дешевый», «подарок» (кроме подарочных категорий), «бесплатно», «акция», «специальная цена», «новинка», «new», «аналог», «заказ», «хит».\n",
    "\n",
    "Исключаем штампы (не использовать в генерации ответа):\n",
    "Отличается высокой прочностью и длительной эксплуатацией.\n",
    "Максимально комфортный дизайн.\n",
    "Осуществляется надежная защита.\n",
    "Окажется хорошим выбором.\n",
    "Окажется прекрасным приобретением.\n",
    "Наслаждайтесь непревзойденным качеством.\n",
    "Привлекательный внешний вид.\n",
    "Прекрасное приобретение.\n",
    "Незаменимое дополнение.\n",
    "Незабываемые впечатления от просмотра.\n",
    "В самых непредвиденных условиях.\n",
    "Длительный срок эксплуатации.\n",
    "Среди достоинств можно назвать…\n",
    "Лучший выбор для вас.\n",
    "\n",
    "Пустые оценки (не использовать в генерации ответа):\n",
    "Красивый.\n",
    "Мощный.\n",
    "Удобный.\n",
    "Высококлассный.\n",
    "Достойный.\n",
    "Инновационный.\n",
    "Внушительный.\n",
    "Высококачественный.\n",
    "Высококлассный.\n",
    "Гарантированный.\n",
    "Эксклюзивный.\n",
    "\n",
    "Излишние усилители (не использовать в генерации ответа):\n",
    "Абсолютно.\n",
    "Невероятно.\n",
    "Предельно.\n",
    "Максимально.\n",
    "Безусловно.\n",
    "Совершенно.\n",
    "\n",
    "Избегаем вводных конструкций (не использовать в генерации ответа):\n",
    "Как известно.\n",
    "Не секрет.\n",
    "Между прочим.\n",
    "Очевидно.\n",
    "Вдобавок.\n",
    "Естественно.\n",
    "\n",
    "Обобщающие и неопределённые (не использовать в генерации ответа):\n",
    "В некоторых случаях.\n",
    "Во всех отношениях.\n",
    "Разнообразный.\n",
    "Различного рода.\n",
    "В целом.\n",
    "В среднем.\n",
    "\n",
    "Паразиты времени (не использовать в генерации ответа):\n",
    "Сегодня.\n",
    "Сейчас.\n",
    "В настоящее время.\n",
    "В наши дни.\n",
    "В современном мире.\n",
    "\n",
    "Исключите уточнения в конце по типу (не использовать в генерации ответа):\n",
    "Обратите внимание, что цены и характеристики могут меняться, поэтому перед покупкой рекомендуется уточнить актуальную информацию у продавца.\n",
    "\n",
    "Разделённые конструкции:\n",
    "Плохо: Для планшета подойдёт чехол, который имеет легкое магнитное крепление.\n",
    "Хорошо: Для планшета подойдёт чехол с лёгким магнитным креплением.\n",
    "\n",
    "Страдательный залог:\n",
    "Плохо: Механизм оборудован 6 шарикоподшипниками, обеспечивающими плавный ход.\n",
    "Хорошо: Механизм оборудован 6 подшипниками для плавного хода.\n",
    "\n",
    "Сложные предложения:\n",
    "Плохо: Тонкий, но практичный чехол Tab S предлагает магнитное крепление для фиксации, клавиатура у него съемного типа, так что изделие сможет выступить просто в роли чехла.\n",
    "Хорошо: Tab S — тонкий, но практичный чехол с магнитным креплением для фиксации. При необходимости клавиатуру можно снять и оставить только заднюю часть чехла.\n",
    "\n",
    "Ваша задача заключается в написании маркетингового описания товара на основе предоставленных характеристик. \n",
    "\n",
    "Пример выполнения и создания маркетингово описания продукта, за пример взят ноутбук Huawei MateBook D 15 BoDE-WDH9:\n",
    "\n",
    "Ноутбук Huawei MateBook D 15 BoDE-WDH9 имеет безрамочный FHD-дисплей с полезной площадью 87%, благодаря чему на нем отображается больше информации — можно комфортно просматривать веб-страницы или работать в графических редакторах. За счет диагонали 15,6 дюймов и широкоформатного соотношения сторон можно не только смотреть фильмы или видеоролики, но и редактировать большие таблицы. IPS-матрица отличается реалистичной цветопередачей и широкими углами обзора. Функции защиты зрения позволяют проводить за компьютером часы напролет, не чувствуя усталости.\n",
    "Технология «Мультискрин» дает возможность проецировать дисплей смартфона прямо на ноутбук. При этом благодаря поддержке многозадачности одновременно можно разместить три окна с разными приложениями.\n",
    "Особенности\n",
    "стереодинамики;\n",
    "сканер отпечатка пальца для входа в учетную запись без ввода пароля;\n",
    "быстрая зарядка.\n",
    "HD-камера для общения по видеосвязи встроена в клавиатуру и выдвигается при нажатии. Для выхода в интернет используется модуль Wi-Fi 6, что позволяет загружать и скачивать файлы со скоростью 2,4 Гбит/с. При этом, по сравнению с предыдущим поколением, сигнал более стабильный, а покрытие сети шире. По Bluetooth-соединению можно подключить беспроводную аудиогарнитуру и другие совместимые устройства.\n",
    "Конфигурация\n",
    "4-ядерный процессор Core i5 и 8 Гб оперативной памяти DDR4 гарантируют высокий уровень производительности при выполнении ресурсоемких задач. Даже если открыть десятки вкладок в браузере, ничего не будет зависать или тормозить. За обработку компьютерной графики отвечает интегрированная видеокарта Iris Xe. Твердотельный SSD-накопитель объемом 256 Гбайт ускоряет загрузку системы и обеспечивает мгновенный доступ к файлам.\n",
    "Автономность\n",
    "Литий-полимерная аккумуляторная батарея энергоемкостью 56 Wh способна продержаться без подзарядки на протяжении 12 часов, в зависимости от нагрузки. Поэтому, отправляясь на работу или учебу, зарядный блок питания можно оставить дома.\n",
    "\n",
    "НАЧАТЬ ОПИСАНИЕ\n",
    "\"\"\""
   ]
  },
  {
   "cell_type": "code",
   "execution_count": 13,
   "id": "f7e1f219-e7e9-447c-a489-d9f91c93e891",
   "metadata": {
    "execution": {
     "iopub.execute_input": "2024-06-13T16:10:53.943581Z",
     "iopub.status.busy": "2024-06-13T16:10:53.943099Z",
     "iopub.status.idle": "2024-06-13T16:10:53.979385Z",
     "shell.execute_reply": "2024-06-13T16:10:53.978589Z",
     "shell.execute_reply.started": "2024-06-13T16:10:53.943549Z"
    },
    "tags": []
   },
   "outputs": [],
   "source": [
    "def format_prompt(metap, specs_list):\n",
    "    return metap.format(SPECS=specs_list)"
   ]
  },
  {
   "cell_type": "markdown",
   "id": "87678a5e-937f-4772-99f3-563bbadc1656",
   "metadata": {
    "execution": {
     "iopub.execute_input": "2024-06-12T09:34:14.495047Z",
     "iopub.status.busy": "2024-06-12T09:34:14.493921Z",
     "iopub.status.idle": "2024-06-12T09:34:14.515396Z",
     "shell.execute_reply": "2024-06-12T09:34:14.514650Z",
     "shell.execute_reply.started": "2024-06-12T09:34:14.495001Z"
    },
    "tags": []
   },
   "source": [
    "## Создание запроса в YandexGPT, получение ответа в виде markdown"
   ]
  },
  {
   "cell_type": "code",
   "execution_count": 14,
   "id": "0f8131e1-a038-4f2e-a6ea-f08be98d3161",
   "metadata": {
    "execution": {
     "iopub.execute_input": "2024-06-13T16:10:53.981742Z",
     "iopub.status.busy": "2024-06-13T16:10:53.980474Z",
     "iopub.status.idle": "2024-06-13T16:10:54.019862Z",
     "shell.execute_reply": "2024-06-13T16:10:54.019097Z",
     "shell.execute_reply.started": "2024-06-13T16:10:53.981706Z"
    },
    "tags": []
   },
   "outputs": [],
   "source": [
    "# Функция для обработки запроса YandexGPT\n",
    "def get_gpt_response(formatted_prompt, token):\n",
    "    url = 'https://llm.api.cloud.yandex.net/foundationModels/v1/completion'\n",
    "\n",
    "    data = {\n",
    "        'modelUri': 'gpt://b1g60k1kva2jrejf255o/yandexgpt/latest',\n",
    "        'completionOptions': {'stream': False, 'temperature': 0.2, 'maxTokens': 2500},\n",
    "        'messages': [\n",
    "            {\"role\": \"system\", \"text\": formatted_prompt},\n",
    "            {\"role\": \"user\", \"text\": formatted_prompt}\n",
    "        ]\n",
    "    }\n",
    "\n",
    "    response = requests.post(url, headers={'Authorization': 'Bearer ' + token}, json=data).json()\n",
    "    return response"
   ]
  },
  {
   "cell_type": "code",
   "execution_count": 15,
   "id": "97af96a1-21d8-4741-bcc1-ea1135a845be",
   "metadata": {
    "execution": {
     "iopub.execute_input": "2024-06-13T16:10:54.022019Z",
     "iopub.status.busy": "2024-06-13T16:10:54.020845Z",
     "iopub.status.idle": "2024-06-13T16:10:54.078840Z",
     "shell.execute_reply": "2024-06-13T16:10:54.078035Z",
     "shell.execute_reply.started": "2024-06-13T16:10:54.021985Z"
    },
    "tags": []
   },
   "outputs": [],
   "source": [
    "# Функция для обработки формата markdown, исправление явных ошибок генерации\n",
    "def format_markdown(text):\n",
    "    \n",
    "    text = text.replace('\\\\n', '\\n')\n",
    "    text = re.sub(r'\\* ', '* ', text)\n",
    "    \n",
    "    formatted_text = text.strip()\n",
    "    \n",
    "    return formatted_text"
   ]
  },
  {
   "cell_type": "markdown",
   "id": "a11c6c9c-6080-4223-9e82-b3021aece70c",
   "metadata": {
    "execution": {
     "iopub.execute_input": "2024-06-12T09:53:32.624808Z",
     "iopub.status.busy": "2024-06-12T09:53:32.623717Z",
     "iopub.status.idle": "2024-06-12T09:53:32.636578Z",
     "shell.execute_reply": "2024-06-12T09:53:32.635713Z",
     "shell.execute_reply.started": "2024-06-12T09:53:32.624753Z"
    },
    "tags": []
   },
   "source": [
    "## Промпт с учетом техник SEO-оптимизации для саммари"
   ]
  },
  {
   "cell_type": "code",
   "execution_count": 26,
   "id": "5c48bf31-1242-41c3-8787-21387d336ff6",
   "metadata": {
    "execution": {
     "iopub.execute_input": "2024-06-13T22:52:13.033487Z",
     "iopub.status.busy": "2024-06-13T22:52:13.032217Z",
     "iopub.status.idle": "2024-06-13T22:52:13.048920Z",
     "shell.execute_reply": "2024-06-13T22:52:13.048354Z",
     "shell.execute_reply.started": "2024-06-13T22:52:13.033445Z"
    },
    "tags": []
   },
   "outputs": [],
   "source": [
    "metaprompt_summary = \"\"\"Сегодня вы будете писать SEO-оптимизированное саммари для технологического продукта. \n",
    "Ваша цель — создать краткое, информативное и привлекательное описание, подходящее для маркетинговых целей и оптимизированное для поисковых систем. \n",
    "Используйте ключевые слова, структурированные данные и улучшите пользовательский опыт. Будьте очень креативным, чтобы описание выглядело живым и ценным для пользователей.\n",
    "Самое главное - умести красочное, креативное, живое описание в диапазон от 250 до 750 символов, чтобы оно было полноценным SEO-описанием для продукта в поисковике.\n",
    "Не используй значения характеристик, выделяй лишь уникальность продукта, его плюсы, но не используй числовые значения характеристик в ответе.\n",
    "Когда я напишу \"НАЧАТЬ ОПИСАНИЕ\", вы приступите к выполнению этой задачи. Никогда не пиши в конце ответа это: \"Обратите внимание, что цены и характеристики могут меняться, поэтому перед покупкой рекомендуется уточнить актуальную информацию у продавца.\"\n",
    "Исходные данные - словарь со всеми характеристиками товара, где ключ - название характеристики, а значение - сама характеристика:\n",
    "{SPECS}\n",
    "Важные правила для выполнения задачи:\n",
    "Текст должен быть написан на русском языке.\n",
    "Объем текста должен быть от 250 до 750 символов.\n",
    "Напишите ответ, используя правильную разметку Markdown, чтобы он выглядел красиво и был правильно структурирован. Убедитесь, что списки правильно оформлены с использованием символов * или -. Избегайте лишних символов, таких как \\n и лишних *.\n",
    "Структура текста:\n",
    "Название товара:\n",
    "\n",
    "Включите название и основное ключевое слово.\n",
    "Описание:\n",
    "\n",
    "Используйте ключевые слова.\n",
    "Информируйте о назначении товара и его ключевых особенностях.\n",
    "Основные характеристики:\n",
    "\n",
    "Список ключевых характеристик с использованием ключевых слов. Не давайте слишком много информации про характеристики, это ведь не техническое описание. Упомяните лишь уникальные, которые оценят пользователи.\n",
    "\n",
    "Заключение:\n",
    "Подчеркните, как товар улучшает качество жизни покупателя.\n",
    "\n",
    "Недопустимые действия:\n",
    "Не преподносить обычное свойство товара в качестве преимущества. Если у товара нет отстройки от конкурентов по этому параметру, не нужно выдавать его за особенность.\n",
    "Не вызывать ярко выраженные отрицательные эмоции у покупателя, не стыдить и не запугивать его. Акцент должен быть сделан на благополучном решении проблемы и повышении качества жизни.\n",
    "Не использовать более 2-3 восклицательных знаков на весь текст. Текст должен быть позитивным, но не экзальтированным.\n",
    "Уникальность описания должна быть не менее 80%.\n",
    "\n",
    "Стоп-слова (не использовать в генерации ответа):\n",
    "«скидка», «распродажа», «дешевый», «подарок» (кроме подарочных категорий), «бесплатно», «акция», «специальная цена», «новинка», «new», «аналог», «заказ», «хит».\n",
    "\n",
    "Исключаем штампы (не использовать в генерации ответа):\n",
    "Отличается высокой прочностью и длительной эксплуатацией.\n",
    "Максимально комфортный дизайн.\n",
    "Осуществляется надежная защита.\n",
    "Окажется хорошим выбором.\n",
    "Окажется прекрасным приобретением.\n",
    "Наслаждайтесь непревзойденным качеством.\n",
    "Привлекательный внешний вид.\n",
    "Прекрасное приобретение.\n",
    "Незаменимое дополнение.\n",
    "Незабываемые впечатления от просмотра.\n",
    "В самых непредвиденных условиях.\n",
    "Длительный срок эксплуатации.\n",
    "Среди достоинств можно назвать…\n",
    "Лучший выбор для вас.\n",
    "\n",
    "Пустые оценки (не использовать в генерации ответа):\n",
    "Красивый.\n",
    "Мощный.\n",
    "Удобный.\n",
    "Высококлассный.\n",
    "Достойный.\n",
    "Инновационный.\n",
    "Внушительный.\n",
    "Высококачественный.\n",
    "Высококлассный.\n",
    "Гарантированный.\n",
    "Эксклюзивный.\n",
    "\n",
    "Излишние усилители (не использовать в генерации ответа):\n",
    "Абсолютно.\n",
    "Невероятно.\n",
    "Предельно.\n",
    "Максимально.\n",
    "Безусловно.\n",
    "Совершенно.\n",
    "\n",
    "Избегаем вводных конструкций (не использовать в генерации ответа):\n",
    "Как известно.\n",
    "Не секрет.\n",
    "Между прочим.\n",
    "Очевидно.\n",
    "Вдобавок.\n",
    "Естественно.\n",
    "Обобщающие и неопределённые (не использовать в генерации ответа):\n",
    "В некоторых случаях.\n",
    "Во всех отношениях.\n",
    "Разнообразный.\n",
    "Различного рода.\n",
    "В целом.\n",
    "В среднем.\n",
    "\n",
    "Паразиты времени (не использовать в генерации ответа):\n",
    "Сегодня.\n",
    "Сейчас.\n",
    "В настоящее время.\n",
    "В наши дни.\n",
    "В современном мире.\n",
    "\n",
    "Исключите уточнения в конце по типу (не использовать в генерации ответа):\n",
    "Обратите внимание, что цены и характеристики могут меняться, поэтому перед покупкой рекомендуется уточнить актуальную информацию у продавца.\n",
    "\n",
    "Разделённые конструкции:\n",
    "Плохо: Для планшета подойдёт чехол, который имеет легкое магнитное крепление.\n",
    "Хорошо: Для планшета подойдёт чехол с лёгким магнитным креплением.\n",
    "\n",
    "Страдательный залог:\n",
    "Плохо: Механизм оборудован 6 шарикоподшипниками, обеспечивающими плавный ход.\n",
    "Хорошо: Механизм оборудован 6 подшипниками для плавного хода.\n",
    "\n",
    "Сложные предложения:\n",
    "Плохо: Тонкий, но практичный чехол Tab S предлагает магнитное крепление для фиксации, клавиатура у него съемного типа, так что изделие сможет выступить просто в роли чехла.\n",
    "Хорошо: Tab S — тонкий, но практичный чехол с магнитным креплением для фиксации. При необходимости клавиатуру можно снять и оставить только заднюю часть чехла.\n",
    "\n",
    "Пример:\n",
    "\n",
    "Название товара:\n",
    "Samsung Galaxy S24 Ultra\n",
    "\n",
    "Описание:\n",
    "Добро пожаловать в эру мобильного AI. С Galaxy S24 Ultra в руках вы сможете раскрыть совершенно новые уровни творчества, продуктивности и возможностей, начиная с самого важного устройства в вашей жизни. С вашего смартфона.\n",
    "\n",
    "Основные характеристики:\n",
    "Новые цвета. Минеральный блеск\n",
    "Встроенный стилус S Pen пишет совершенно новую главу\n",
    "Высококлассный NPU. Лучшая в отрасли камера. Теперь с AI.\n",
    "Длительное время работы от аккумулятора.\n",
    "200 МП.\n",
    "Съемка деталей, не уступающая реальности\n",
    "\n",
    "Заключение:\n",
    "Переносите данные просто с iOS на Android. Откройте новые горизонты AI. Забудьте о барьерах. Делитесь файлами мгновенно. Попробуйте Galaxy на своем телефоне. С Galaxy вы начнёте видеть жизнь в новом цвете.\n",
    "\n",
    "НАЧАТЬ ОПИСАНИЕ\n",
    "\"\"\""
   ]
  },
  {
   "cell_type": "markdown",
   "id": "40ead080-cc38-4562-be99-3244df1d7b59",
   "metadata": {
    "tags": []
   },
   "source": [
    "## Настройка графического интерфейса Gradio, использование всех функций"
   ]
  },
  {
   "cell_type": "code",
   "execution_count": 22,
   "id": "753b9c4b-60e1-494c-b0fb-8fef87bfacb2",
   "metadata": {
    "execution": {
     "iopub.execute_input": "2024-06-13T22:39:57.646008Z",
     "iopub.status.busy": "2024-06-13T22:39:57.644906Z",
     "iopub.status.idle": "2024-06-13T22:40:02.528651Z",
     "shell.execute_reply": "2024-06-13T22:40:02.527757Z",
     "shell.execute_reply.started": "2024-06-13T22:39:57.645968Z"
    },
    "tags": []
   },
   "outputs": [
    {
     "name": "stdout",
     "output_type": "stream",
     "text": [
      "Running on local URL:  http://127.0.0.1:7862\n",
      "IMPORTANT: You are using gradio version 4.26.0, however version 4.29.0 is available, please upgrade.\n",
      "--------\n",
      "Running on public URL: https://7d6d95bbdee4bc98c5.gradio.live\n",
      "\n",
      "This share link expires in 72 hours. For free permanent hosting and GPU upgrades, run `gradio deploy` from Terminal to deploy to Spaces (https://huggingface.co/spaces)\n"
     ]
    },
    {
     "data": {
      "text/html": [
       "<div><iframe src=\"https://7d6d95bbdee4bc98c5.gradio.live\" width=\"100%\" height=\"500\" allow=\"autoplay; camera; microphone; clipboard-read; clipboard-write;\" frameborder=\"0\" allowfullscreen></iframe></div>"
      ],
      "text/plain": [
       "<ml_kernel._vendor.IPython.core.display.HTML object>"
      ]
     },
     "metadata": {},
     "output_type": "display_data"
    },
    {
     "data": {
      "text/plain": []
     },
     "execution_count": 22,
     "metadata": {},
     "output_type": "execute_result"
    }
   ],
   "source": [
    "import gradio as gr\n",
    "\n",
    "def generate_description(artikul):\n",
    "    artikul = artikul.replace(' ', '')\n",
    "    specs_list = get_characteristics_by_artikul(artikul, artikul_dict)\n",
    "    \n",
    "    if specs_list == \"Артикул не найден\":\n",
    "        return \"Артикул не найден\", \"\"\n",
    "    \n",
    "    # Форматируем и отправляем запрос для маркетингового описания\n",
    "    formatted_prompt = format_prompt(metaprompt, specs_list)\n",
    "    token = get_yandex_gpt_token()\n",
    "    try:\n",
    "        response = get_gpt_response(formatted_prompt, token)\n",
    "        marketing_description = response[\"result\"][\"alternatives\"][0][\"message\"][\"text\"]\n",
    "        marketing_description = format_markdown(marketing_description)\n",
    "    except requests.exceptions.Timeout:\n",
    "        return \"Ошибка: запрос превысил время ожидания\", \"\"\n",
    "    except Exception as e:\n",
    "        return f\"Ошибка: {str(e)}\", \"\"\n",
    "    \n",
    "    # Форматируем и отправляем запрос для SEO-оптимизированного саммари\n",
    "    formatted_summary_prompt = format_prompt(metaprompt_summary, specs_list)\n",
    "    try:\n",
    "        response = get_gpt_response(formatted_summary_prompt, token)\n",
    "        seo_summary = response[\"result\"][\"alternatives\"][0][\"message\"][\"text\"]\n",
    "        seo_summary = format_markdown(seo_summary)\n",
    "    except requests.exceptions.Timeout:\n",
    "        return marketing_description, \"Ошибка: запрос превысил время ожидания\"\n",
    "    except Exception as e:\n",
    "        return marketing_description, f\"Ошибка: {str(e)}\"\n",
    "    \n",
    "    return marketing_description, seo_summary\n",
    "\n",
    "# Gradio интерфейс\n",
    "with gr.Blocks() as iface:\n",
    "    gr.Markdown(\"# Маркетинговое описание и саммари товара\")\n",
    "    gr.Markdown(\"### Введите артикул (код товара Ситилинк), чтобы получить маркетинговое описание и SEO-оптимизированное саммари.\")\n",
    "    \n",
    "    with gr.Row():\n",
    "        artikul_input = gr.Textbox(label=\"Артикул\", placeholder=\"Введите артикул здесь...\", lines=1, max_lines=1)\n",
    "        submit_button = gr.Button(\"Сгенерировать описание\")\n",
    "    \n",
    "    with gr.Tab(\"Результаты\"):\n",
    "        with gr.TabItem(\"Маркетинговое описание\"):\n",
    "            markdown_output = gr.Markdown()\n",
    "        with gr.TabItem(\"SEO-оптимизированное саммари\"):\n",
    "            summary_output = gr.Markdown()\n",
    "    \n",
    "    gr.Markdown(\"---\")\n",
    "    gr.Markdown(\"Пример использования:\")\n",
    "    gr.Markdown(\"1. Введите любой код товара из Excel-файла в текстовое поле. (например: 2004835 - Macbook Pro, 1907743 - Haier Smart TV, 1923689 - Samsung S22, 1903468 - LG UltraWide 34)\\n2. Нажмите кнопку 'Сгенерировать описание'.\\n3. Получите тех. описание и саммари в формате Markdown.\")\n",
    "\n",
    "    submit_button.click(fn=generate_description, inputs=artikul_input, outputs=[markdown_output, summary_output])\n",
    "\n",
    "iface.launch(share=True)"
   ]
  },
  {
   "cell_type": "markdown",
   "id": "8d34297b-89d1-4ea8-a0c0-37acb62e69a3",
   "metadata": {
    "execution": {
     "iopub.execute_input": "2024-06-12T18:50:36.402332Z",
     "iopub.status.busy": "2024-06-12T18:50:36.401345Z",
     "iopub.status.idle": "2024-06-12T18:50:36.411228Z",
     "shell.execute_reply": "2024-06-12T18:50:36.410543Z",
     "shell.execute_reply.started": "2024-06-12T18:50:36.402290Z"
    },
    "tags": []
   },
   "source": [
    "## Дообучение модели YandexGPT"
   ]
  },
  {
   "cell_type": "code",
   "execution_count": 18,
   "id": "ca6bf524-0810-485b-81e4-defbac19af6e",
   "metadata": {
    "execution": {
     "iopub.execute_input": "2024-06-13T16:11:05.472216Z",
     "iopub.status.busy": "2024-06-13T16:11:05.469541Z",
     "iopub.status.idle": "2024-06-13T16:11:05.502473Z",
     "shell.execute_reply": "2024-06-13T16:11:05.501577Z",
     "shell.execute_reply.started": "2024-06-13T16:11:05.472142Z"
    },
    "tags": []
   },
   "outputs": [],
   "source": [
    "specs = get_characteristics_by_artikul(\"2010075\", artikul_dict)\n",
    "fprompt = format_prompt(metaprompt, specs)\n",
    "fsumprompt = format_prompt(metaprompt_summary, specs)"
   ]
  },
  {
   "cell_type": "code",
   "execution_count": 19,
   "id": "f23ccfbb-2d5e-4923-9f0d-46cb83795e4d",
   "metadata": {
    "execution": {
     "iopub.execute_input": "2024-06-13T16:11:05.504085Z",
     "iopub.status.busy": "2024-06-13T16:11:05.503363Z",
     "iopub.status.idle": "2024-06-13T16:11:05.532224Z",
     "shell.execute_reply": "2024-06-13T16:11:05.531221Z",
     "shell.execute_reply.started": "2024-06-13T16:11:05.504049Z"
    },
    "tags": []
   },
   "outputs": [
    {
     "name": "stdout",
     "output_type": "stream",
     "text": [
      "Сегодня вы будете писать SEO-оптимизированное саммари для технологического продукта. \n",
      "Ваша цель — создать краткое, информативное и привлекательное описание, подходящее для маркетинговых целей и оптимизированное для поисковых систем. \n",
      "Используйте ключевые слова, структурированные данные и улучшите пользовательский опыт. Будьте очень креативным, чтобы описание выглядело живым и ценным для пользователей.\n",
      "\n",
      "Когда я напишу \"НАЧАТЬ ОПИСАНИЕ\", вы приступите к выполнению этой задачи.\n",
      "Исходные данные - словарь со всеми характеристиками товара, где ключ - название характеристики, а значение - сама характеристика:\n",
      "{'PartNumber/Артикул Производителя': '75C845', 'Акустическая схема': '2.1', 'Антенный вход': '2', 'Безрамочный дизайн': 'нет', 'Бренд': 'TCL', 'Веб-камера': 'нет', 'Версия операционной системы': 'Google TV', 'Вес без подставки': '32.6', 'Вес товара': '35.8', 'Вес упаковки (ед)': '13.5', 'Возможность записи на USB носитель': 'ДА', 'Время отклика пикселя': '6.5', 'Встроенный Bluetooth': 'ДА', 'Встроенный Wi-Fi': 'ДА', 'Встроенный плеер': 'нет', 'Встроенный сабвуфер': 'ДА', 'Высота без подставки': '961', 'Высота товара': '1030', 'Высота упаковки (ед)': '1.12', 'Габариты упаковки (ед) ДхШхВ': '1.84x0.2x1.12', 'Гид по программам (EPG)': 'ДА', 'Глубина без подставки': '77', 'Глубина товара': '319', 'Год создания модели': '2023', 'Голосовое управление': 'ДА', 'Голосовой помощник': 'Amazon Alexa, Google Assistant', 'Диагональ': '75\" (190 см)', 'Диагональ экрана (дюймы)': '75', 'Диагональ экрана (см)': '190', 'Длина упаковки (ед)': '1.84', 'Запись видео': 'PVR', 'Игровой режим': 'ДА', 'Изогнутый экран': 'нет', 'Кабельный тюнер DVB-C': 'ДА', 'Кабельный тюнер DVB-C2': 'нет', 'Картинка в картинке (PiP)': 'нет', 'Количество HDMI 2.1': '4', 'Количество HDMI портов': '4', 'Количество динамиков': '2', 'Количество логистических мест': '0', 'Контрастность': '7.000:1', 'Модель': '75C845', 'Мощность одного динамика': '10', 'Мощность сабвуфера': '20', 'Объем упаковки (ед)': '0.41216', 'Операционная система': 'Google TV', 'Очки 3D в комплекте': 'нет', 'Поддерживаемое управление со смартфона': 'AirPlay 2', 'Поддержка 3D': 'нет', 'Поддержка DLNA': 'нет', 'Поддержка HDR': 'ДА', 'Поддержка NFC': 'нет', 'Поддержка SMART TV': 'ДА', 'Поддержка Surround Sound': 'нет', 'Подсветка': 'LED', 'Покрытие корпуса': 'матовое', 'Прогрессивная развертка': 'нет', 'Произведено в РФ': 'нет', 'Процессор изображения': 'нет', 'Работает в экосистеме \"умный дом\"': 'ДА', 'Работает с Amazon Alexa': 'ДА', 'Работает с Google Assistant': 'ДА', 'Размер VESA': '400x400', 'Размеры': '1670x1030x319мм', 'Размеры без подставки': '1670x961x77мм', 'Разрешение': '3840x2160', 'Разрешение по вертикали': '2160', 'Разрешение по горизонтали': '3840', 'Разъем  CI+/PCMCIA': '1', 'Разъем RJ-45 (Ethernet)': '1', 'Разъем S/PDIF коаксиальный': '0', 'Разъем S/PDIF оптический': '1', 'Разъем S-Video': '0', 'Разъем USB': '1', 'Разъем VGA': '0', 'Разъем для наушников': '0', 'Разъем композитный (видео)': '1', 'Разъем компонентный': '0', 'Разъем стерео аудио': '1', 'Разъемов USB 3.0': '0', 'Родительский контроль': 'нет', 'Серия': 'нет', 'Соотношение сторон': '16:9', 'Спутниковый тюнер DVB-S': 'ДА', 'Спутниковый тюнер DVB-S2': 'ДА', 'Ссылка на сайт поставщика/вендора': 'https://www.tcl.com/ru/ru/tvs/c845', 'Стандарт разрешения экрана': '4K Ultra HD', 'Страна производства': 'Китай', 'Таймер включения/выключения': 'нет', 'Таймер сна': 'нет', 'Телетекст': 'нет', 'Технологии HDMI': 'HDMI ARC, HDMI-CEC', 'Технология HDR': 'Dolby Vision, HDR10, HLG, HDR10+', 'Технология экрана': 'QLED', 'Тип': 'QLED-телевизор', 'Тип блока питания': 'встроенный', 'Тип для Ситилинка': 'Телевизор', 'Тип матрицы': 'VA', 'Тип подсветки': 'mini-LED', 'Тип подставки': 'по центру', 'Тип разъема USB': 'мультимедийный', 'Углы обзора (гориз/верт)': '178x178', 'Угол обзора вертикальный': '178', 'Угол обзора горизонтальный': '178', 'Умный дом (подробнее)': 'TCL Home', 'Управление жестами': 'ДА', 'Управление со смартфона': 'ДА', 'Фоновая подсветка': 'нет', 'Форматы воспроизведения': 'Различные форматы файлов видео, аудио, изображений', 'Функция Time Shift': 'ДА', 'Функция поиска пульта ДУ': 'нет', 'Цвет': 'черный', 'Цвет для фильтра': 'черный', 'Цвет телевизора': 'черный', 'Цифровое шумоподавление': 'нет', 'Цифровой тюнер DVB-T': 'ДА', 'Цифровой тюнер DVB-T2': 'ДА', 'Частота обновления': '120', 'Ширина без подставки': '1670', 'Ширина товара': '1670', 'Ширина упаковки (ед)': '0.2', 'Энергопотребление в рабочем режиме': '0', 'Энергопотребление в режиме ожидания': '0', 'Яркость экрана': '0'}\n",
      "Важные правила для выполнения задачи:\n",
      "Текст должен быть написан на русском языке.\n",
      "Объем текста должен быть от 250 до 750 символов.\n",
      "Напишите ответ, используя правильную разметку Markdown, чтобы он выглядел красиво и был правильно структурирован. Убедитесь, что списки правильно оформлены с использованием символов * или -. Избегайте лишних символов, таких как \n",
      " и лишних *.\n",
      "Структура текста:\n",
      "Название товара:\n",
      "\n",
      "Включите название и основное ключевое слово.\n",
      "Описание:\n",
      "\n",
      "Используйте ключевые слова.\n",
      "Информируйте о назначении товара и его ключевых особенностях.\n",
      "Основные характеристики:\n",
      "\n",
      "Список ключевых характеристик с использованием ключевых слов. Не давайте слишком много информации про характеристики, это ведь не техническое описание. Упомяните лишь уникальные, которые оценят пользователи.\n",
      "Преимущества:\n",
      "\n",
      "Раскройте ключевые преимущества товара.\n",
      "Заключение:\n",
      "\n",
      "Подчеркните, как товар улучшает качество жизни покупателя.\n",
      "Недопустимые действия:\n",
      "Не преподносить обычное свойство товара в качестве преимущества. Если у товара нет отстройки от конкурентов по этому параметру, не нужно выдавать его за особенность.\n",
      "Не вызывать ярко выраженные отрицательные эмоции у покупателя, не стыдить и не запугивать его. Акцент должен быть сделан на благополучном решении проблемы и повышении качества жизни.\n",
      "Не использовать более 2-3 восклицательных знаков на весь текст. Текст должен быть позитивным, но не экзальтированным.\n",
      "Уникальность описания должна быть не менее 80%.\n",
      "Стоп-слова (не использовать в генерации ответа):\n",
      "«скидка», «распродажа», «дешевый», «подарок» (кроме подарочных категорий), «бесплатно», «акция», «специальная цена», «новинка», «new», «аналог», «заказ», «хит».\n",
      "Исключаем штампы (не использовать в генерации ответа):\n",
      "Отличается высокой прочностью и длительной эксплуатацией.\n",
      "Максимально комфортный дизайн.\n",
      "Осуществляется надежная защита.\n",
      "Окажется хорошим выбором.\n",
      "Окажется прекрасным приобретением.\n",
      "Наслаждайтесь непревзойденным качеством.\n",
      "Привлекательный внешний вид.\n",
      "Прекрасное приобретение.\n",
      "Незаменимое дополнение.\n",
      "Незабываемые впечатления от просмотра.\n",
      "В самых непредвиденных условиях.\n",
      "Длительный срок эксплуатации.\n",
      "Среди достоинств можно назвать…\n",
      "Лучший выбор для вас.\n",
      "Пустые оценки (не использовать в генерации ответа):\n",
      "Красивый.\n",
      "Мощный.\n",
      "Удобный.\n",
      "Высококлассный.\n",
      "Достойный.\n",
      "Инновационный.\n",
      "Внушительный.\n",
      "Высококачественный.\n",
      "Высококлассный.\n",
      "Гарантированный.\n",
      "Эксклюзивный.\n",
      "Излишние усилители (не использовать в генерации ответа):\n",
      "Абсолютно.\n",
      "Невероятно.\n",
      "Предельно.\n",
      "Максимально.\n",
      "Безусловно.\n",
      "Совершенно.\n",
      "Избегаем вводных конструкций (не использовать в генерации ответа):\n",
      "Как известно.\n",
      "Не секрет.\n",
      "Между прочим.\n",
      "Очевидно.\n",
      "Вдобавок.\n",
      "Естественно.\n",
      "Обобщающие и неопределённые (не использовать в генерации ответа):\n",
      "В некоторых случаях.\n",
      "Во всех отношениях.\n",
      "Разнообразный.\n",
      "Различного рода.\n",
      "В целом.\n",
      "В среднем.\n",
      "Паразиты времени (не использовать в генерации ответа):\n",
      "Сегодня.\n",
      "Сейчас.\n",
      "В настоящее время.\n",
      "В наши дни.\n",
      "В современном мире.\n",
      "Исключите уточнения в конце по типу (не использовать в генерации ответа):\n",
      "Обратите внимание, что цены и характеристики могут меняться, поэтому перед покупкой рекомендуется уточнить актуальную информацию у продавца.\n",
      "Разделённые конструкции:\n",
      "Плохо: Для планшета подойдёт чехол, который имеет легкое магнитное крепление.\n",
      "Хорошо: Для планшета подойдёт чехол с лёгким магнитным креплением.\n",
      "Страдательный залог:\n",
      "Плохо: Механизм оборудован 6 шарикоподшипниками, обеспечивающими плавный ход.\n",
      "Хорошо: Механизм оборудован 6 подшипниками для плавного хода.\n",
      "Сложные предложения:\n",
      "Плохо: Тонкий, но практичный чехол Tab S предлагает магнитное крепление для фиксации, клавиатура у него съемного типа, так что изделие сможет выступить просто в роли чехла.\n",
      "Хорошо: Tab S — тонкий, но практичный чехол с магнитным креплением для фиксации. При необходимости клавиатуру можно снять и оставить только заднюю часть чехла.\n",
      "\n",
      "Пример:\n",
      "Название товара:\n",
      "Samsung Galaxy S24 Ultra\n",
      "\n",
      "Описание:\n",
      "Добро пожаловать в эру мобильного AI. С Galaxy S24 Ultra в руках вы сможете раскрыть совершенно новые уровни творчества, продуктивности и возможностей, начиная с самого важного устройства в вашей жизни. С вашего смартфона.\n",
      "\n",
      "Основные характеристики:\n",
      "Новые цвета. Минеральный блеск\n",
      "Встроенный стилус S Pen пишет совершенно новую главу\n",
      "Высококлассный NPU. Лучшая в отрасли камера. Теперь с AI.\n",
      "Длительное время работы от аккумулятора.\n",
      "200 МП.\n",
      "Съемка деталей, не уступающая реальности\n",
      "\n",
      "Заключение:\n",
      "Переносите данные просто с iOS на Android. Откройте новые горизонты AI. Забудьте о барьерах. Делитесь файлами мгновенно. Попробуйте Galaxy на своем телефоне. С Galaxy вы начнёте видеть жизнь в новом цвете.\n",
      "\n",
      "НАЧАТЬ ОПИСАНИЕ\n",
      "\n"
     ]
    }
   ],
   "source": [
    "print(fsumprompt)"
   ]
  },
  {
   "cell_type": "code",
   "execution_count": null,
   "id": "40eda6d1-0573-485c-8747-59708edb6734",
   "metadata": {},
   "outputs": [],
   "source": []
  },
  {
   "cell_type": "code",
   "execution_count": null,
   "id": "c9cadfcc-63db-45bd-a5b3-59e9b935ca1b",
   "metadata": {},
   "outputs": [],
   "source": []
  }
 ],
 "metadata": {
  "kernelspec": {
   "display_name": "DataSphere Kernel",
   "language": "python",
   "name": "python3"
  },
  "language_info": {
   "codemirror_mode": {
    "name": "ipython",
    "version": 3
   },
   "file_extension": ".py",
   "mimetype": "text/x-python",
   "name": "python",
   "nbconvert_exporter": "python",
   "pygments_lexer": "ipython3",
   "version": "3.10.12"
  }
 },
 "nbformat": 4,
 "nbformat_minor": 5
}
